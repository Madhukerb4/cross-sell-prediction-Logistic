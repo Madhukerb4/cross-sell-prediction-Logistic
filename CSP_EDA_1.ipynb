{
 "cells": [
  {
   "cell_type": "markdown",
   "metadata": {},
   "source": [
    "### Problem Statement \n",
    "Your client is an Insurance company that has provided Health Insurance to its customers now they need your help in building a model to predict whether the policyholders (customers) from past year will also be interested in Vehicle Insurance provided by the company.\n",
    "\n",
    "An insurance policy is an arrangement by which a company undertakes to provide a guarantee of compensation for specified loss, damage, illness, or death in return for the payment of a specified premium. A premium is a sum of money that the customer needs to pay regularly to an insurance company for this guarantee.\n",
    "\n",
    "For example, you may pay a premium of Rs. 5000 each year for a health insurance cover of Rs. 200,000/- so that if, God forbid, you fall ill and need to be hospitalised in that year, the insurance provider company will bear the cost of hospitalisation etc. for upto Rs. 200,000. Now if you are wondering how can company bear such high hospitalisation cost when it charges a premium of only Rs. 5000/-, that is where the concept of probabilities comes in picture. For example, like you, there may be 100 customers who would be paying a premium of Rs. 5000 every year, but only a few of them (say 2-3) would get hospitalised that year and not everyone. This way everyone shares the risk of everyone else.\n",
    "\n",
    "Just like medical insurance, there is vehicle insurance where every year customer needs to pay a premium of certain amount to insurance provider company so that in case of unfortunate accident by the vehicle, the insurance provider company will provide a compensation (called ‘sum assured’) to the customer.\n",
    "\n",
    "Building a model to predict whether a customer would be interested in Vehicle Insurance is extremely helpful for the company because it can then accordingly plan its communication strategy to reach out to those customers and optimise its business model and revenue. \n",
    "\n",
    "Now, in order to predict, whether the customer would be interested in Vehicle insurance, you have information about demographics (gender, age, region code type), Vehicles (Vehicle Age, Damage), Policy (Premium, sourcing channel) etc"
   ]
  },
  {
   "cell_type": "markdown",
   "metadata": {},
   "source": [
    "#### Feature Description\n",
    "    id\t                   Unique ID for the customer\n",
    "    Gender\t               Gender of the customer\n",
    "    Age                    Age of the customer\n",
    "    Driving_License\t       0 : Customer does not have DL, 1 : Customer already has DL\n",
    "    Region_Code\t           Unique code for the region of the customer\n",
    "    Previously_Insured\t   1 : Customer already has Vehicle Insurance, 0 : Customer doesn't have Vehicle Insurance\n",
    "    Vehicle_Age\t           Age of the Vehicle \n",
    "    Vehicle_Damage         1 : Customer got his/her vehicle damaged in the past.\n",
    "                           0 : Customer didn't get his/her vehicle damaged in the past.\n",
    "    Annual_Premium\t       The amount customer needs to pay as premium in the year\n",
    "    Policy_Sales_Channel   Anonymised Code for the channel of outreaching to the customer ie. Different Agents, Over Mail,                            Over Phone, In Person, etc.\n",
    "    Vintage\t               Number of Days, Customer has been associated with the company\n",
    "    Response               1 :  Customer is interested, 0 : Customer is not interested"
   ]
  },
  {
   "cell_type": "code",
   "execution_count": 15,
   "metadata": {},
   "outputs": [],
   "source": [
    "### import python packages ###\n",
    "import warnings\n",
    "warnings.filterwarnings('ignore')\n",
    "import pandas as pd\n",
    "import numpy as np\n",
    "import matplotlib.pyplot as plt\n",
    "import seaborn as sns\n",
    "from pylab import rcParams\n",
    "import joblib\n",
    "import scipy.stats\n",
    "from scipy.stats import probplot\n",
    "from datetime import datetime, date, time"
   ]
  },
  {
   "cell_type": "markdown",
   "metadata": {},
   "source": [
    "#### import train dataset"
   ]
  },
  {
   "cell_type": "code",
   "execution_count": 16,
   "metadata": {},
   "outputs": [
    {
     "data": {
      "text/plain": [
       "(381109, 12)"
      ]
     },
     "execution_count": 16,
     "metadata": {},
     "output_type": "execute_result"
    }
   ],
   "source": [
    "#### import the source file ####\n",
    "df_src = pd.read_csv(\"C:\\\\Users\\\\krupakar\\\\Desktop\\\\PythonPractise\\\\Datasets\\\\Vidya_Analytics_Hackathon\\\\Cross_Sell_Prediction\\\\train.csv\")\n",
    "df_src.shape"
   ]
  },
  {
   "cell_type": "code",
   "execution_count": 17,
   "metadata": {},
   "outputs": [
    {
     "data": {
      "text/plain": [
       "(381109, 12)"
      ]
     },
     "execution_count": 17,
     "metadata": {},
     "output_type": "execute_result"
    }
   ],
   "source": [
    "#### drop duplicate rows ####\n",
    "df_src = df_src.drop_duplicates(keep = 'first')\n",
    "df_src.shape"
   ]
  },
  {
   "cell_type": "code",
   "execution_count": 18,
   "metadata": {},
   "outputs": [
    {
     "data": {
      "text/plain": [
       "(381109, 11)"
      ]
     },
     "execution_count": 18,
     "metadata": {},
     "output_type": "execute_result"
    }
   ],
   "source": [
    "#### dropping few variables, which may not be helpful for prediction ####\n",
    "X_train = df_src.drop(labels = ['id'], axis = 1)\n",
    "X_train.shape"
   ]
  },
  {
   "cell_type": "code",
   "execution_count": 19,
   "metadata": {},
   "outputs": [
    {
     "data": {
      "text/plain": [
       "(381109, 11)"
      ]
     },
     "execution_count": 19,
     "metadata": {},
     "output_type": "execute_result"
    }
   ],
   "source": [
    "#### renaming the feature names ####\n",
    "X_train = X_train.rename(columns= {'Gender': 'gender', 'Age': 'age', 'Driving_License': 'driving_licence', 'Region_Code': 'region_cd', \n",
    "                                  'Previously_Insured': 'previously_insured', 'Vehicle_Age': 'vehicle_age', 'Vehicle_Damage' : 'vehicle_damage', 'Annual_Premium': 'annual_premium', \n",
    "                                   'Policy_Sales_Channel': 'policy_sales_channel', 'Vintage': 'vintage', 'Response': 'response'})\n",
    "X_train.shape"
   ]
  },
  {
   "cell_type": "code",
   "execution_count": 20,
   "metadata": {},
   "outputs": [
    {
     "name": "stdout",
     "output_type": "stream",
     "text": [
      "<class 'pandas.core.frame.DataFrame'>\n",
      "Int64Index: 381109 entries, 0 to 381108\n",
      "Data columns (total 11 columns):\n",
      "gender                  381109 non-null object\n",
      "age                     381109 non-null int64\n",
      "driving_licence         381109 non-null int64\n",
      "region_cd               381109 non-null float64\n",
      "previously_insured      381109 non-null int64\n",
      "vehicle_age             381109 non-null object\n",
      "vehicle_damage          381109 non-null object\n",
      "annual_premium          381109 non-null float64\n",
      "policy_sales_channel    381109 non-null float64\n",
      "vintage                 381109 non-null int64\n",
      "response                381109 non-null int64\n",
      "dtypes: float64(3), int64(5), object(3)\n",
      "memory usage: 34.9+ MB\n"
     ]
    }
   ],
   "source": [
    "#### chekcing the basic info of the X_train Dataset ####\n",
    "X_train.info()"
   ]
  },
  {
   "cell_type": "code",
   "execution_count": 21,
   "metadata": {},
   "outputs": [
    {
     "data": {
      "text/plain": [
       "gender                  0\n",
       "age                     0\n",
       "driving_licence         0\n",
       "region_cd               0\n",
       "previously_insured      0\n",
       "vehicle_age             0\n",
       "vehicle_damage          0\n",
       "annual_premium          0\n",
       "policy_sales_channel    0\n",
       "vintage                 0\n",
       "response                0\n",
       "dtype: int64"
      ]
     },
     "execution_count": 21,
     "metadata": {},
     "output_type": "execute_result"
    }
   ],
   "source": [
    "#### checking the \"NAN\" values columns in the X_train dataset ####\n",
    "X_train.isna().sum()"
   ]
  },
  {
   "cell_type": "markdown",
   "metadata": {},
   "source": [
    "#### Observation : Non of the variables has NAN Values"
   ]
  },
  {
   "cell_type": "code",
   "execution_count": 22,
   "metadata": {},
   "outputs": [
    {
     "data": {
      "text/plain": [
       "gender                      2\n",
       "age                        66\n",
       "driving_licence             2\n",
       "region_cd                  53\n",
       "previously_insured          2\n",
       "vehicle_age                 3\n",
       "vehicle_damage              2\n",
       "annual_premium          48838\n",
       "policy_sales_channel      155\n",
       "vintage                   290\n",
       "response                    2\n",
       "dtype: int64"
      ]
     },
     "execution_count": 22,
     "metadata": {},
     "output_type": "execute_result"
    }
   ],
   "source": [
    "#### chekcing the unique count of each variable in the X_train dataset ####\n",
    "X_train.nunique()"
   ]
  },
  {
   "cell_type": "markdown",
   "metadata": {},
   "source": [
    "#### Explanatory Data Analysis"
   ]
  },
  {
   "cell_type": "markdown",
   "metadata": {},
   "source": [
    "#### 1. Response "
   ]
  },
  {
   "cell_type": "code",
   "execution_count": 23,
   "metadata": {},
   "outputs": [
    {
     "name": "stdout",
     "output_type": "stream",
     "text": [
      "Percentage of Response(%) : \n",
      "0    87.743664\n",
      "1    12.256336\n",
      "Name: response, dtype: float64\n"
     ]
    },
    {
     "data": {
      "image/png": "[encoded data removed]",
      "text/plain": [
       "<Figure size 432x288 with 1 Axes>"
      ]
     },
     "metadata": {
      "needs_background": "light"
     },
     "output_type": "display_data"
    }
   ],
   "source": [
    "#### Analysis of Response variable  ####\n",
    "print('Percentage of Response(%) : ')\n",
    "print((X_train['response'].value_counts()/X_train.shape[0])*100)\n",
    "sns.countplot(X_train['response'])\n",
    "plt.show()"
   ]
  },
  {
   "cell_type": "markdown",
   "metadata": {},
   "source": [
    "#### Observations: \n",
    "    1. Only 12.25% (46710) of the insurers have opted for Vechicle Insurance\n",
    "    2. Imbalance dataset"
   ]
  },
  {
   "cell_type": "markdown",
   "metadata": {},
   "source": [
    "#### 2. Annual Premium    "
   ]
  },
  {
   "cell_type": "code",
   "execution_count": 24,
   "metadata": {},
   "outputs": [
    {
     "data": {
      "text/plain": [
       "count    381109.000000\n",
       "mean      30564.389581\n",
       "std       17213.155057\n",
       "min        2630.000000\n",
       "25%       24405.000000\n",
       "50%       31669.000000\n",
       "75%       39400.000000\n",
       "max      540165.000000\n",
       "Name: annual_premium, dtype: float64"
      ]
     },
     "execution_count": 24,
     "metadata": {},
     "output_type": "execute_result"
    }
   ],
   "source": [
    "#### description of Annual Premium ####\n",
    "X_train['annual_premium'].describe()"
   ]
  },
  {
   "cell_type": "code",
   "execution_count": 25,
   "metadata": {},
   "outputs": [
    {
     "data": {
      "text/plain": [
       "1.7660872148961309"
      ]
     },
     "execution_count": 25,
     "metadata": {},
     "output_type": "execute_result"
    }
   ],
   "source": [
    "#### skewness of deposit ####\n",
    "X_train['annual_premium'].skew()"
   ]
  },
  {
   "cell_type": "code",
   "execution_count": 26,
   "metadata": {},
   "outputs": [
    {
     "data": {
      "image/png": "[encoded data removed]",
      "text/plain": [
       "<Figure size 1152x288 with 4 Axes>"
      ]
     },
     "metadata": {
      "needs_background": "light"
     },
     "output_type": "display_data"
    }
   ],
   "source": [
    "##### deposit distribution univariate plots #####\n",
    "\n",
    "plt.figure(figsize=(16,4))\n",
    "\n",
    "plt.subplot(1,4,1)\n",
    "plt.hist(X_train['annual_premium'])\n",
    "plt.xlabel(\"Histogram\", fontsize = 10,  color = 'darkred')\n",
    "plt.ylabel(\"frequency\", fontsize = 10, color = 'darkred')\n",
    "\n",
    "plt.subplot(1,4,2)\n",
    "sns.distplot(X_train['annual_premium'] )\n",
    "plt.xlabel(\"Distribution\", fontsize = 20, color = 'darkred')\n",
    "\n",
    "plt.subplot(1,4,3)\n",
    "probplot(X_train['annual_premium'], dist= 'norm', plot= plt)\n",
    "plt.xlabel(\"theoretical quantiles\", fontsize = 20, color = 'darkred')\n",
    "plt.ylabel(\"observed values\", fontsize = 20, color = 'darkred')\n",
    "\n",
    "plt.subplot(1,4,4)\n",
    "sns.boxplot(X_train['annual_premium'], whis = 2)\n",
    "plt.xlabel(\"outliers\", fontsize = 20,  color = 'darkred')\n",
    "plt.xticks(fontsize = 15)\n",
    "\n",
    "plt.show()"
   ]
  },
  {
   "cell_type": "markdown",
   "metadata": {},
   "source": [
    "#### Observations:\n",
    "    1. Data is moderatley right skewed\n",
    "    2. Presence of outliers"
   ]
  },
  {
   "cell_type": "markdown",
   "metadata": {},
   "source": [
    "#### Handling Annual Premium Outliers"
   ]
  },
  {
   "cell_type": "code",
   "execution_count": 27,
   "metadata": {},
   "outputs": [],
   "source": [
    "#### Creation of IQR, UPPER LIMIT for Annual Premium ####\n",
    "#premium_Q1 = X_train['annual_premium'].quantile(0.25)\n",
    "#premium_Q3 = X_train['annual_premium'].quantile(0.75)\n",
    "#premium_IQR = (premium_Q3 - premium_Q1)\n",
    "#premium_lower = premium_Q1 - (premium_IQR * 2)\n",
    "#premium_uppper = premium_Q3 + (premium_IQR * 2)"
   ]
  },
  {
   "cell_type": "code",
   "execution_count": 28,
   "metadata": {},
   "outputs": [
    {
     "name": "stdout",
     "output_type": "stream",
     "text": [
      "2630.0\n",
      "72963.0\n",
      "30564.389581458323\n"
     ]
    }
   ],
   "source": [
    "#### Creation of IQR, UPPER LIMIT for Annual Premium ####\n",
    "premium_lower = X_train['annual_premium'].quantile(0.01)\n",
    "premium_uppper = X_train['annual_premium'].quantile(0.99)\n",
    "premium_mean = X_train['annual_premium'].mean()\n",
    "print(premium_lower) ; print(premium_uppper) ; print(premium_mean)"
   ]
  },
  {
   "cell_type": "code",
   "execution_count": 29,
   "metadata": {},
   "outputs": [
    {
     "data": {
      "text/plain": [
       "(317, 4)"
      ]
     },
     "execution_count": 29,
     "metadata": {},
     "output_type": "execute_result"
    }
   ],
   "source": [
    "####creation of dataset with mean based on group by vehicle_damage and age ####\n",
    "df_vehicle_age_age_m = pd.DataFrame(X_train.groupby(['vehicle_age', 'vehicle_damage', 'age'])['annual_premium'].mean())\n",
    "df_vehicle_age_age_m = df_vehicle_age_age_m.reset_index()\n",
    "df_vehicle_age_age_m.shape"
   ]
  },
  {
   "cell_type": "code",
   "execution_count": 30,
   "metadata": {},
   "outputs": [
    {
     "name": "stdout",
     "output_type": "stream",
     "text": [
      "Wall time: 26min 22s\n"
     ]
    }
   ],
   "source": [
    "%%time\n",
    "####  Handling Annual Premium Outliers ####\n",
    "premium_outliers = [] #X_train.index\n",
    "\n",
    "for i in X_train.index :\n",
    "    if X_train['annual_premium'][i] >= premium_uppper :\n",
    "        v_vehicle_age = X_train['vehicle_age'][i]\n",
    "        v_age = X_train['age'][i]\n",
    "        v_vehicle_damaged = X_train['vehicle_damage'][i]\n",
    "        \n",
    "        for j in df_vehicle_age_age_m.index :\n",
    "            if (v_vehicle_age == df_vehicle_age_age_m['vehicle_age'][j]) & (v_vehicle_damaged == df_vehicle_age_age_m['vehicle_damage'][j]) & (v_age == df_vehicle_age_age_m['age'][j]) :\n",
    "                premium_outliers.append(df_vehicle_age_age_m['annual_premium'][j])\n",
    "    elif  X_train['annual_premium'][i] <= premium_lower :\n",
    "        \n",
    "        v_vehicle_age = X_train['vehicle_age'][i]\n",
    "        v_age = X_train['age'][i]\n",
    "        v_vehicle_damaged = X_train['vehicle_damage'][i]\n",
    "                                                                            \n",
    "        for j in df_vehicle_age_age_m.index :\n",
    "            if (v_vehicle_age == df_vehicle_age_age_m['vehicle_age'][j]) & (v_vehicle_damaged == df_vehicle_age_age_m['vehicle_damage'][j]) & (v_age == df_vehicle_age_age_m['age'][j]) :\n",
    "                premium_outliers.append(df_vehicle_age_age_m['annual_premium'][j])\n",
    "    else: \n",
    "        premium_outliers.append(X_train['annual_premium'][i])\n",
    "        "
   ]
  },
  {
   "cell_type": "code",
   "execution_count": 31,
   "metadata": {},
   "outputs": [
    {
     "name": "stdout",
     "output_type": "stream",
     "text": [
      "(381109, 12)\n"
     ]
    }
   ],
   "source": [
    "#### adding new column \"annual_premium_o\" ####\n",
    "X_train['annual_premium_o'] = premium_outliers\n",
    "print(X_train.shape)"
   ]
  },
  {
   "cell_type": "markdown",
   "metadata": {},
   "source": [
    "#### Observations: \n",
    "    1. Outliers are handled"
   ]
  },
  {
   "cell_type": "markdown",
   "metadata": {},
   "source": [
    "#### 3. Age"
   ]
  },
  {
   "cell_type": "code",
   "execution_count": 32,
   "metadata": {},
   "outputs": [
    {
     "data": {
      "text/plain": [
       "count    381109.000000\n",
       "mean         38.822584\n",
       "std          15.511611\n",
       "min          20.000000\n",
       "25%          25.000000\n",
       "50%          36.000000\n",
       "75%          49.000000\n",
       "max          85.000000\n",
       "Name: age, dtype: float64"
      ]
     },
     "execution_count": 32,
     "metadata": {},
     "output_type": "execute_result"
    }
   ],
   "source": [
    "#### description of Age ####\n",
    "X_train['age'].describe()"
   ]
  },
  {
   "cell_type": "code",
   "execution_count": 33,
   "metadata": {},
   "outputs": [
    {
     "data": {
      "image/png": "[encoded data removed]",
      "text/plain": [
       "<Figure size 1152x288 with 2 Axes>"
      ]
     },
     "metadata": {
      "needs_background": "light"
     },
     "output_type": "display_data"
    }
   ],
   "source": [
    "##### Age distribution univariate plots #####\n",
    "plt.figure(figsize=(16,4))\n",
    "\n",
    "plt.subplot(1,2,1)\n",
    "plt.hist(X_train['age'])\n",
    "plt.xlabel(\"Histogram\", fontsize = 10,  color = 'darkred')\n",
    "plt.ylabel(\"frequency\", fontsize = 10, color = 'darkred')\n",
    "\n",
    "plt.subplot(1,2,2)\n",
    "sns.boxplot(X_train['age'], whis = 2)\n",
    "plt.xlabel(\"outliers\", fontsize = 20,  color = 'darkred')\n",
    "plt.xticks(fontsize = 15)\n",
    "\n",
    "plt.show()"
   ]
  },
  {
   "cell_type": "markdown",
   "metadata": {},
   "source": [
    "#### Observations:\n",
    "    1. 25% of the people who own vehicle are between 20 to 25 yrs old\n",
    "    2. 25% of the people who own vehicle are between 49 to 85 yrs old\n",
    "    3. 50% of the people who own vehicle are between 25 to 49 yrs old\n",
    "    4. Therefore based on data distribution, we create 4 age bins\n",
    "    5. No outliers"
   ]
  },
  {
   "cell_type": "code",
   "execution_count": 34,
   "metadata": {},
   "outputs": [
    {
     "name": "stdout",
     "output_type": "stream",
     "text": [
      "(381109, 13)\n"
     ]
    }
   ],
   "source": [
    "#### creation of age bins based on 4 quantiles ####\n",
    "X_train['age_bins'] = pd.qcut(X_train['age'], labels=['1st-quartile', '2nd-quartile', '3rd-quartile', '4th-quartile'], q=4)\n",
    "print(X_train.shape)"
   ]
  },
  {
   "cell_type": "markdown",
   "metadata": {},
   "source": [
    "#### 4. Vintage"
   ]
  },
  {
   "cell_type": "code",
   "execution_count": 35,
   "metadata": {},
   "outputs": [
    {
     "data": {
      "text/plain": [
       "count    381109.000000\n",
       "mean        154.347397\n",
       "std          83.671304\n",
       "min          10.000000\n",
       "25%          82.000000\n",
       "50%         154.000000\n",
       "75%         227.000000\n",
       "max         299.000000\n",
       "Name: vintage, dtype: float64"
      ]
     },
     "execution_count": 35,
     "metadata": {},
     "output_type": "execute_result"
    }
   ],
   "source": [
    "#### description of Vintage ####\n",
    "X_train['vintage'].describe()"
   ]
  },
  {
   "cell_type": "code",
   "execution_count": 36,
   "metadata": {},
   "outputs": [
    {
     "data": {
      "text/plain": [
       "0.0030295168899980816"
      ]
     },
     "execution_count": 36,
     "metadata": {},
     "output_type": "execute_result"
    }
   ],
   "source": [
    "#### Skewness of the Vintage ####\n",
    "X_train['vintage'].skew()"
   ]
  },
  {
   "cell_type": "code",
   "execution_count": 37,
   "metadata": {},
   "outputs": [
    {
     "data": {
      "image/png": "[encoded data removed]",
      "text/plain": [
       "<Figure size 1152x288 with 4 Axes>"
      ]
     },
     "metadata": {
      "needs_background": "light"
     },
     "output_type": "display_data"
    }
   ],
   "source": [
    "##### Vintage distribution univariate plots #####\n",
    "\n",
    "plt.figure(figsize=(16,4))\n",
    "\n",
    "plt.subplot(1,4,1)\n",
    "plt.hist(X_train['vintage'])\n",
    "plt.xlabel(\"Histogram\", fontsize = 10,  color = 'darkred')\n",
    "plt.ylabel(\"frequency\", fontsize = 10, color = 'darkred')\n",
    "\n",
    "plt.subplot(1,4,2)\n",
    "sns.distplot(X_train['vintage'] )\n",
    "plt.xlabel(\"Distribution\", fontsize = 20, color = 'darkred')\n",
    "\n",
    "plt.subplot(1,4,3)\n",
    "probplot(X_train['vintage'], dist= 'norm', plot= plt)\n",
    "plt.xlabel(\"theoretical quantiles\", fontsize = 20, color = 'darkred')\n",
    "plt.ylabel(\"observed values\", fontsize = 20, color = 'darkred')\n",
    "\n",
    "plt.subplot(1,4,4)\n",
    "sns.boxplot(X_train['vintage'], whis = 2)\n",
    "plt.xlabel(\"outliers\", fontsize = 20,  color = 'darkred')\n",
    "plt.xticks(fontsize = 15)\n",
    "\n",
    "plt.show()"
   ]
  },
  {
   "cell_type": "markdown",
   "metadata": {},
   "source": [
    "#### Observations :\n",
    "    1. Data is uniformly distributed\n",
    "    2. Data is not skewed and No outliers "
   ]
  },
  {
   "cell_type": "markdown",
   "metadata": {},
   "source": [
    "#### 5. Gender"
   ]
  },
  {
   "cell_type": "code",
   "execution_count": 38,
   "metadata": {},
   "outputs": [
    {
     "name": "stdout",
     "output_type": "stream",
     "text": [
      "Percentage of Gender(%) : \n",
      "Male      54.07613\n",
      "Female    45.92387\n",
      "Name: gender, dtype: float64\n"
     ]
    },
    {
     "data": {
      "image/png": "[encoded data removed]",
      "text/plain": [
       "<Figure size 432x288 with 1 Axes>"
      ]
     },
     "metadata": {
      "needs_background": "light"
     },
     "output_type": "display_data"
    }
   ],
   "source": [
    "#### Analysis of Gender variable  ####\n",
    "print('Percentage of Gender(%) : ')\n",
    "print((X_train['gender'].value_counts()/X_train.shape[0])*100)\n",
    "sns.countplot(X_train['gender'])\n",
    "plt.show()"
   ]
  },
  {
   "cell_type": "markdown",
   "metadata": {},
   "source": [
    "#### Observations: \n",
    "    1. 54% of males and 46% of the females owns the Vechicle"
   ]
  },
  {
   "cell_type": "markdown",
   "metadata": {},
   "source": [
    "#### 6. Driving Licence             "
   ]
  },
  {
   "cell_type": "code",
   "execution_count": 39,
   "metadata": {},
   "outputs": [
    {
     "name": "stdout",
     "output_type": "stream",
     "text": [
      "Percentage of Driving Licence(%) : \n",
      "1    99.786938\n",
      "0     0.213062\n",
      "Name: driving_licence, dtype: float64\n"
     ]
    },
    {
     "data": {
      "image/png": "[encoded data removed]",
      "text/plain": [
       "<Figure size 432x288 with 1 Axes>"
      ]
     },
     "metadata": {
      "needs_background": "light"
     },
     "output_type": "display_data"
    }
   ],
   "source": [
    "#### Analysis of Driving Licence variable  ####\n",
    "print('Percentage of Driving Licence(%) : ')\n",
    "print((X_train['driving_licence'].value_counts()/X_train.shape[0])*100)\n",
    "sns.countplot(X_train['driving_licence'])\n",
    "plt.show()"
   ]
  },
  {
   "cell_type": "markdown",
   "metadata": {},
   "source": [
    "#### Observations:\n",
    "    1. 99.8% of the Insured people has Driving Licence\n",
    "    2. Only 0.2% (812 records) of the Health Insured people doesn't have Driving Licence\n",
    "    3. It's a Quasi-Constant variable, drop records who doesn't hold Driving Licence"
   ]
  },
  {
   "cell_type": "markdown",
   "metadata": {},
   "source": [
    "#### 7. Region Code"
   ]
  },
  {
   "cell_type": "code",
   "execution_count": 40,
   "metadata": {},
   "outputs": [
    {
     "name": "stdout",
     "output_type": "stream",
     "text": [
      "Percentage of Insurers from each region (%) : \n"
     ]
    },
    {
     "data": {
      "text/plain": [
       "28.0    27.922458\n",
       "8.0      8.889058\n",
       "46.0     5.181982\n",
       "41.0     4.792067\n",
       "15.0     3.491914\n",
       "30.0     3.198822\n",
       "29.0     2.903369\n",
       "50.0     2.687683\n",
       "3.0      2.427390\n",
       "11.0     2.422404\n",
       "Name: region_cd, dtype: float64"
      ]
     },
     "execution_count": 40,
     "metadata": {},
     "output_type": "execute_result"
    }
   ],
   "source": [
    "#### Analysis of Region Code variable  ####\n",
    "print('Percentage of Insurers from each region (%) : ')\n",
    "((X_train['region_cd'].value_counts()/X_train.shape[0])*100).head(10)"
   ]
  },
  {
   "cell_type": "code",
   "execution_count": 41,
   "metadata": {},
   "outputs": [],
   "source": [
    "#### Creation of Handling Rare Labels Function ####\n",
    "def f_find_frequent_labels (dataframe, var, threshold) :\n",
    "    tmp = dataframe.groupby([var]).size()/dataframe.shape[0]\n",
    "    frequent_ls = tmp[tmp > threshold].index\n",
    "    return frequent_ls"
   ]
  },
  {
   "cell_type": "code",
   "execution_count": 42,
   "metadata": {},
   "outputs": [],
   "source": [
    "#### Handling rare labels of Region categories based on Frequency distribution ####\n",
    "freq_region_lst = f_find_frequent_labels(X_train, \"region_cd\", 0.01)"
   ]
  },
  {
   "cell_type": "code",
   "execution_count": 43,
   "metadata": {},
   "outputs": [],
   "source": [
    "#### Handling Rare label for region code #####\n",
    "X_train[\"region_cd_rare\"] = np.where(X_train[\"region_cd\"].isin(freq_region_lst), X_train[\"region_cd\"], 100 )"
   ]
  },
  {
   "cell_type": "code",
   "execution_count": 44,
   "metadata": {},
   "outputs": [
    {
     "data": {
      "image/png": "[encoded data removed]",
      "text/plain": [
       "<Figure size 1152x288 with 1 Axes>"
      ]
     },
     "metadata": {
      "needs_background": "light"
     },
     "output_type": "display_data"
    }
   ],
   "source": [
    "#### Analysis after handling rare values ####\n",
    "plt.figure(figsize= (16, 4))\n",
    "sns.countplot(X_train['region_cd_rare'])\n",
    "plt.show()"
   ]
  },
  {
   "cell_type": "markdown",
   "metadata": {},
   "source": [
    "#### Observations :\n",
    "    1. 28 regions has less than 1% of the Insurers and these are grouped as region no - 100 \n",
    "    2. Region no - 28, has highest no of Insurers i.e. 28% (106415 Insurers)"
   ]
  },
  {
   "cell_type": "markdown",
   "metadata": {},
   "source": [
    "#### 8. Previously Insured"
   ]
  },
  {
   "cell_type": "code",
   "execution_count": 45,
   "metadata": {},
   "outputs": [
    {
     "name": "stdout",
     "output_type": "stream",
     "text": [
      "Percentage of Previously Insured(%) : \n",
      "0    54.178988\n",
      "1    45.821012\n",
      "Name: previously_insured, dtype: float64\n"
     ]
    },
    {
     "data": {
      "image/png": "[encoded data removed]",
      "text/plain": [
       "<Figure size 432x288 with 1 Axes>"
      ]
     },
     "metadata": {
      "needs_background": "light"
     },
     "output_type": "display_data"
    }
   ],
   "source": [
    "#### Analysis of Previously Insured variable  ####\n",
    "print('Percentage of Previously Insured(%) : ')\n",
    "print((X_train['previously_insured'].value_counts()/X_train.shape[0])*100)\n",
    "sns.countplot(X_train['previously_insured'])\n",
    "plt.show()"
   ]
  },
  {
   "cell_type": "markdown",
   "metadata": {},
   "source": [
    "#### Observations:\n",
    "    1. 46% of the Insurers are Previously Insured\n",
    "    2. 54% of the Insurers are newly first time Insured customers"
   ]
  },
  {
   "cell_type": "markdown",
   "metadata": {},
   "source": [
    "#### 9. Vehicle Age             "
   ]
  },
  {
   "cell_type": "code",
   "execution_count": 46,
   "metadata": {},
   "outputs": [
    {
     "name": "stdout",
     "output_type": "stream",
     "text": [
      "Percentage of Vehicle Age(%) : \n",
      "1-2 Year     52.561341\n",
      "< 1 Year     43.238549\n",
      "> 2 Years     4.200111\n",
      "Name: vehicle_age, dtype: float64\n"
     ]
    },
    {
     "data": {
      "image/png": "[encoded data removed]",
      "text/plain": [
       "<Figure size 432x288 with 1 Axes>"
      ]
     },
     "metadata": {
      "needs_background": "light"
     },
     "output_type": "display_data"
    }
   ],
   "source": [
    "#### Analysis of Vehicle Age variable  ####\n",
    "print('Percentage of Vehicle Age(%) : ')\n",
    "print((X_train['vehicle_age'].value_counts()/X_train.shape[0])*100)\n",
    "sns.countplot(X_train['vehicle_age'])\n",
    "plt.show()"
   ]
  },
  {
   "cell_type": "markdown",
   "metadata": {},
   "source": [
    "#### Observations:\n",
    "    1. Only 4% of the Vehicles are older than 2 yrs\n",
    "    2. 43% of the Vehicles are less than 1 yr old or newly taken\n",
    "    3. 53% of the Vehicle are between 1 & 2 yrs old"
   ]
  },
  {
   "cell_type": "markdown",
   "metadata": {},
   "source": [
    "#### 10. Vehicle Damage"
   ]
  },
  {
   "cell_type": "code",
   "execution_count": 47,
   "metadata": {},
   "outputs": [
    {
     "name": "stdout",
     "output_type": "stream",
     "text": [
      "Percentage of Vehicle Damage(%) : \n",
      "Yes    50.487656\n",
      "No     49.512344\n",
      "Name: vehicle_damage, dtype: float64\n"
     ]
    },
    {
     "data": {
      "image/png": "[encoded data removed]",
      "text/plain": [
       "<Figure size 432x288 with 1 Axes>"
      ]
     },
     "metadata": {
      "needs_background": "light"
     },
     "output_type": "display_data"
    }
   ],
   "source": [
    "#### Analysis of Vehicle Damage variable  ####\n",
    "print('Percentage of Vehicle Damage(%) : ')\n",
    "print((X_train['vehicle_damage'].value_counts()/X_train.shape[0])*100)\n",
    "sns.countplot(X_train['vehicle_damage'])\n",
    "plt.show()"
   ]
  },
  {
   "cell_type": "markdown",
   "metadata": {},
   "source": [
    "#### Observations:\n",
    "    1. Both damaged and un-damaged vehicle are equal proportionate i.e. 50%"
   ]
  },
  {
   "cell_type": "markdown",
   "metadata": {},
   "source": [
    "#### 11. Policy Sales Channel      "
   ]
  },
  {
   "cell_type": "code",
   "execution_count": 48,
   "metadata": {},
   "outputs": [
    {
     "name": "stdout",
     "output_type": "stream",
     "text": [
      "Percentage of Policy Sales Channel (%) : \n"
     ]
    },
    {
     "data": {
      "text/plain": [
       "152.0    35.366260\n",
       "26.0     20.912652\n",
       "124.0    19.415705\n",
       "160.0     5.714638\n",
       "156.0     2.797362\n",
       "122.0     2.605554\n",
       "157.0     1.753829\n",
       "154.0     1.572516\n",
       "151.0     1.019393\n",
       "163.0     0.759100\n",
       "Name: policy_sales_channel, dtype: float64"
      ]
     },
     "execution_count": 48,
     "metadata": {},
     "output_type": "execute_result"
    }
   ],
   "source": [
    "#### Analysis of Policy Sales Channel variable  ####\n",
    "print('Percentage of Policy Sales Channel (%) : ')\n",
    "((X_train['policy_sales_channel'].value_counts()/X_train.shape[0])*100).head(10)"
   ]
  },
  {
   "cell_type": "code",
   "execution_count": 49,
   "metadata": {},
   "outputs": [],
   "source": [
    "#### Handling rare labels of Policy Sales channel categories based on Frequency distribution ####\n",
    "freq_sales_channel_lst = f_find_frequent_labels(X_train, \"policy_sales_channel\", 0.01)"
   ]
  },
  {
   "cell_type": "code",
   "execution_count": 50,
   "metadata": {},
   "outputs": [],
   "source": [
    "#### Handling Rare label for Policy Sales channel #####\n",
    "X_train[\"sales_channel_rare\"] = np.where(X_train[\"policy_sales_channel\"].isin(freq_sales_channel_lst), X_train[\"policy_sales_channel\"], 1000 )"
   ]
  },
  {
   "cell_type": "code",
   "execution_count": 51,
   "metadata": {},
   "outputs": [
    {
     "name": "stdout",
     "output_type": "stream",
     "text": [
      "Percentage of Sale Channel data: \n"
     ]
    },
    {
     "data": {
      "image/png": "[encoded data removed]",
      "text/plain": [
       "<Figure size 720x432 with 1 Axes>"
      ]
     },
     "metadata": {},
     "output_type": "display_data"
    }
   ],
   "source": [
    "#### Analysis after handling rare values ####\n",
    "plt.figure(figsize=(10,6))\n",
    "print(\"Percentage of Sale Channel data: \")\n",
    "labels = X_train.groupby(['sales_channel_rare'])['sales_channel_rare'].count().index\n",
    "plt.pie(X_train.groupby(['sales_channel_rare'])['sales_channel_rare'].count()/X_train.shape[0] * 100, autopct='%1.1f%%',  labels= labels)\n",
    "plt.legend()\n",
    "plt.xlim(1)\n",
    "plt.show()"
   ]
  },
  {
   "cell_type": "markdown",
   "metadata": {},
   "source": [
    "#### Observations: \n",
    "      1. 146 sales channels has less than 1% of the Insurers and these are grouped as sales channel no - 1000\n",
    "      2. Sales Channel no - 152, has highest no of Insurers i.e. 35% (134784 Insurers)"
   ]
  },
  {
   "cell_type": "markdown",
   "metadata": {},
   "source": [
    "#### Label Encoding ####"
   ]
  },
  {
   "cell_type": "code",
   "execution_count": 52,
   "metadata": {},
   "outputs": [],
   "source": [
    "#### 1. gender ####\n",
    "X_train['gender_le'] = np.where(X_train['gender'] == 'Female', 0, 1)"
   ]
  },
  {
   "cell_type": "code",
   "execution_count": 53,
   "metadata": {},
   "outputs": [],
   "source": [
    "#### 2.vehicle damage ####\n",
    "X_train['vehicle_damage_le'] = np.where(X_train['vehicle_damage'] == 'Yes', 1, 0)"
   ]
  },
  {
   "cell_type": "markdown",
   "metadata": {},
   "source": [
    "#### Pickling the X_train dataset ####"
   ]
  },
  {
   "cell_type": "code",
   "execution_count": 54,
   "metadata": {},
   "outputs": [
    {
     "name": "stdout",
     "output_type": "stream",
     "text": [
      "(381109, 17)\n"
     ]
    },
    {
     "data": {
      "text/plain": [
       "['X_train_eda.pkl']"
      ]
     },
     "execution_count": 54,
     "metadata": {},
     "output_type": "execute_result"
    }
   ],
   "source": [
    "#### pickling the train dataset ####\n",
    "print(X_train.shape)\n",
    "joblib.dump(X_train, \"X_train_eda.pkl\")"
   ]
  },
  {
   "cell_type": "code",
   "execution_count": 55,
   "metadata": {},
   "outputs": [
    {
     "data": {
      "text/plain": [
       "['premium_outlier.pkl']"
      ]
     },
     "execution_count": 55,
     "metadata": {},
     "output_type": "execute_result"
    }
   ],
   "source": [
    "#### pickling the outliers details ####\n",
    "joblib.dump((premium_lower, premium_uppper, df_vehicle_age_age_m, premium_mean), \"premium_outlier.pkl\")"
   ]
  },
  {
   "cell_type": "code",
   "execution_count": 56,
   "metadata": {},
   "outputs": [
    {
     "data": {
      "text/plain": [
       "['frequent_categories.pkl']"
      ]
     },
     "execution_count": 56,
     "metadata": {},
     "output_type": "execute_result"
    }
   ],
   "source": [
    "#### pickling frequent categories for region and sales channel ####\n",
    "joblib.dump((freq_region_lst, freq_sales_channel_lst ), \"frequent_categories.pkl\")"
   ]
  },
  {
   "cell_type": "code",
   "execution_count": null,
   "metadata": {},
   "outputs": [],
   "source": []
  }
 ],
 "metadata": {
  "kernelspec": {
   "display_name": "Python 3",
   "language": "python",
   "name": "python3"
  },
  "language_info": {
   "codemirror_mode": {
    "name": "ipython",
    "version": 3
   },
   "file_extension": ".py",
   "mimetype": "text/x-python",
   "name": "python",
   "nbconvert_exporter": "python",
   "pygments_lexer": "ipython3",
   "version": "3.7.3"
  }
 },
 "nbformat": 4,
 "nbformat_minor": 2
}
