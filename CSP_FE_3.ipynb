{
 "cells": [
  {
   "cell_type": "code",
   "execution_count": 1,
   "metadata": {},
   "outputs": [],
   "source": [
    "### importing packages ###\n",
    "import warnings\n",
    "warnings.filterwarnings('ignore')\n",
    "import pandas as pd\n",
    "import numpy as np\n",
    "from datetime import datetime, date, time"
   ]
  },
  {
   "cell_type": "code",
   "execution_count": 2,
   "metadata": {},
   "outputs": [],
   "source": [
    "import matplotlib.pyplot as plt\n",
    "%matplotlib inline\n",
    "import seaborn as sns\n",
    "from matplotlib.pyplot import figure\n",
    "from pylab import rcParams\n",
    "import joblib"
   ]
  },
  {
   "cell_type": "code",
   "execution_count": 3,
   "metadata": {},
   "outputs": [],
   "source": [
    "import random\n",
    "import scipy.stats as stats\n",
    "from statsmodels.stats.outliers_influence import variance_inflation_factor\n",
    "from scipy.stats import chi2_contingency, chisquare, lognorm, kstest, shapiro, normaltest, chi2, levene, ttest_ind, t"
   ]
  },
  {
   "cell_type": "markdown",
   "metadata": {},
   "source": [
    "#### importing pickled dataset"
   ]
  },
  {
   "cell_type": "code",
   "execution_count": 4,
   "metadata": {},
   "outputs": [
    {
     "data": {
      "text/plain": [
       "(381109, 17)"
      ]
     },
     "execution_count": 4,
     "metadata": {},
     "output_type": "execute_result"
    }
   ],
   "source": [
    "#### import the pickled X_train dataset ####\n",
    "X_train_eda = joblib.load(\"X_train_eda.pkl\")\n",
    "X_train_eda.shape"
   ]
  },
  {
   "cell_type": "markdown",
   "metadata": {},
   "source": [
    "#### Feature Engineering"
   ]
  },
  {
   "cell_type": "markdown",
   "metadata": {},
   "source": [
    "#### 1. f_region_cd_cnt"
   ]
  },
  {
   "cell_type": "code",
   "execution_count": 5,
   "metadata": {},
   "outputs": [
    {
     "name": "stdout",
     "output_type": "stream",
     "text": [
      "(53, 2)\n"
     ]
    },
    {
     "data": {
      "text/plain": [
       "(381109, 18)"
      ]
     },
     "execution_count": 5,
     "metadata": {},
     "output_type": "execute_result"
    }
   ],
   "source": [
    "#### probability of region code rare ####\n",
    "df_region_cd_cnt = pd.DataFrame(X_train_eda.groupby(['region_cd']).size())\n",
    "df_region_cd_cnt = df_region_cd_cnt.reset_index()\n",
    "df_region_cd_cnt = df_region_cd_cnt.rename(columns = {0 : 'f_region_cd_cnt'})\n",
    "print(df_region_cd_cnt.shape)\n",
    "\n",
    "# adding new column \"f_region_cd_cnt\"\n",
    "X_train_eda = pd.merge(X_train_eda, df_region_cd_cnt, how = 'inner', on= ['region_cd'])\n",
    "X_train_eda.shape"
   ]
  },
  {
   "cell_type": "markdown",
   "metadata": {},
   "source": [
    "#### 2. f_vehicle_age_p"
   ]
  },
  {
   "cell_type": "code",
   "execution_count": 6,
   "metadata": {},
   "outputs": [
    {
     "name": "stdout",
     "output_type": "stream",
     "text": [
      "(3, 2)\n"
     ]
    },
    {
     "data": {
      "text/plain": [
       "(381109, 19)"
      ]
     },
     "execution_count": 6,
     "metadata": {},
     "output_type": "execute_result"
    }
   ],
   "source": [
    "#### probability of Vehicle Age ####\n",
    "df_vehicle_age_p = pd.DataFrame(X_train_eda.groupby(['vehicle_age']).size()/X_train_eda.shape[0])\n",
    "df_vehicle_age_p = df_vehicle_age_p.reset_index()\n",
    "df_vehicle_age_p = df_vehicle_age_p.rename(columns = {0 : 'f_vehicle_age_p'})\n",
    "print(df_vehicle_age_p.shape)\n",
    "\n",
    "# adding new column \"f_vehicle_age_p\"\n",
    "X_train_eda = pd.merge(X_train_eda, df_vehicle_age_p, how = 'inner', on= ['vehicle_age'] )\n",
    "X_train_eda.shape"
   ]
  },
  {
   "cell_type": "markdown",
   "metadata": {},
   "source": [
    "#### 3. f_policy_channel_p"
   ]
  },
  {
   "cell_type": "code",
   "execution_count": 7,
   "metadata": {},
   "outputs": [
    {
     "name": "stdout",
     "output_type": "stream",
     "text": [
      "(10, 2)\n"
     ]
    },
    {
     "data": {
      "text/plain": [
       "(381109, 20)"
      ]
     },
     "execution_count": 7,
     "metadata": {},
     "output_type": "execute_result"
    }
   ],
   "source": [
    "#### probability of Policy Channel rare ####\n",
    "df_policy_channel_p = pd.DataFrame(X_train_eda.groupby(['sales_channel_rare']).size()/X_train_eda.shape[0])\n",
    "df_policy_channel_p = df_policy_channel_p.reset_index()\n",
    "df_policy_channel_p = df_policy_channel_p.rename(columns = {0 : 'f_policy_channel_p'})\n",
    "print(df_policy_channel_p.shape)\n",
    "\n",
    "# adding new column \"f_policy_channel_p\"\n",
    "X_train_eda = pd.merge(X_train_eda, df_policy_channel_p, how = 'inner', on= ['sales_channel_rare'] )\n",
    "X_train_eda.shape"
   ]
  },
  {
   "cell_type": "markdown",
   "metadata": {},
   "source": [
    "#### 4. f_vintage_cnt"
   ]
  },
  {
   "cell_type": "code",
   "execution_count": 8,
   "metadata": {},
   "outputs": [
    {
     "name": "stdout",
     "output_type": "stream",
     "text": [
      "(290, 2)\n"
     ]
    },
    {
     "data": {
      "text/plain": [
       "(381109, 21)"
      ]
     },
     "execution_count": 8,
     "metadata": {},
     "output_type": "execute_result"
    }
   ],
   "source": [
    "#### probability of Vintage Cnt ####\n",
    "df_vintage_cnt_p = pd.DataFrame(X_train_eda.groupby(['vintage']).size())\n",
    "df_vintage_cnt_p = df_vintage_cnt_p.reset_index()\n",
    "df_vintage_cnt_p = df_vintage_cnt_p.rename(columns = {0 : 'f_vintage_cnt'})\n",
    "print(df_vintage_cnt_p.shape)\n",
    "\n",
    "# adding new column \"f_vintage_cnt\"\n",
    "X_train_eda = pd.merge(X_train_eda, df_vintage_cnt_p, how = 'inner', on= ['vintage'] )\n",
    "X_train_eda.shape"
   ]
  },
  {
   "cell_type": "markdown",
   "metadata": {},
   "source": [
    "#### 5. f_age_bins_p"
   ]
  },
  {
   "cell_type": "code",
   "execution_count": 9,
   "metadata": {},
   "outputs": [
    {
     "name": "stdout",
     "output_type": "stream",
     "text": [
      "(4, 2)\n"
     ]
    },
    {
     "data": {
      "text/plain": [
       "(381109, 22)"
      ]
     },
     "execution_count": 9,
     "metadata": {},
     "output_type": "execute_result"
    }
   ],
   "source": [
    "#### probability of Policy Channel rare ####\n",
    "df_age_bins_p = pd.DataFrame(X_train_eda.groupby(['age_bins']).size()/X_train_eda.shape[0])\n",
    "df_age_bins_p = df_age_bins_p.reset_index()\n",
    "df_age_bins_p = df_age_bins_p.rename(columns = {0 : 'f_age_bins_p'})\n",
    "print(df_age_bins_p.shape)\n",
    "\n",
    "# adding new column \"f_policy_channel_p\"\n",
    "X_train_eda = pd.merge(X_train_eda, df_age_bins_p, how = 'inner', on= ['age_bins'] )\n",
    "X_train_eda.shape\n"
   ]
  },
  {
   "cell_type": "markdown",
   "metadata": {},
   "source": [
    "#### 6. f_age_bins_premium_median"
   ]
  },
  {
   "cell_type": "code",
   "execution_count": 10,
   "metadata": {},
   "outputs": [
    {
     "name": "stdout",
     "output_type": "stream",
     "text": [
      "(4, 2)\n"
     ]
    },
    {
     "data": {
      "text/plain": [
       "(381109, 23)"
      ]
     },
     "execution_count": 10,
     "metadata": {},
     "output_type": "execute_result"
    }
   ],
   "source": [
    "#### age bins and premium amount mean ####\n",
    "df_age_bins_premium_me = pd.DataFrame(X_train_eda.groupby(['age_bins'])['annual_premium_o'].median())\n",
    "df_age_bins_premium_me = df_age_bins_premium_me.reset_index()\n",
    "df_age_bins_premium_me = df_age_bins_premium_me.rename(columns = {'annual_premium_o' : 'f_age_bins_premium_me'})\n",
    "print(df_age_bins_premium_me.shape)\n",
    "\n",
    "# adding new column \"f_policy_channel_p\"\n",
    "X_train_eda = pd.merge(X_train_eda, df_age_bins_premium_me, how = 'inner', on= ['age_bins'] )\n",
    "X_train_eda.shape\n"
   ]
  },
  {
   "cell_type": "markdown",
   "metadata": {},
   "source": [
    "#### 7. f_vehicle_age_premium_std"
   ]
  },
  {
   "cell_type": "code",
   "execution_count": 11,
   "metadata": {},
   "outputs": [
    {
     "name": "stdout",
     "output_type": "stream",
     "text": [
      "(3, 2)\n"
     ]
    },
    {
     "data": {
      "text/plain": [
       "(381109, 24)"
      ]
     },
     "execution_count": 11,
     "metadata": {},
     "output_type": "execute_result"
    }
   ],
   "source": [
    "#### Vehicle age and premium amount mean ####\n",
    "df_vehicle_age_premium_s = pd.DataFrame(X_train_eda.groupby(['vehicle_age'])['annual_premium_o'].std())\n",
    "df_vehicle_age_premium_s = df_vehicle_age_premium_s.reset_index()\n",
    "df_vehicle_age_premium_s = df_vehicle_age_premium_s.rename(columns = {'annual_premium_o' : 'f_vehicle_age_premium_std'})\n",
    "print(df_vehicle_age_premium_s.shape)\n",
    "\n",
    "# adding new column \"f_policy_channel_p\"\n",
    "X_train_eda = pd.merge(X_train_eda, df_vehicle_age_premium_s, how = 'inner', on= ['vehicle_age'] )\n",
    "X_train_eda.shape\n"
   ]
  },
  {
   "cell_type": "markdown",
   "metadata": {},
   "source": [
    "#### 8. f_channel_premium_std"
   ]
  },
  {
   "cell_type": "code",
   "execution_count": 12,
   "metadata": {},
   "outputs": [
    {
     "name": "stdout",
     "output_type": "stream",
     "text": [
      "(10, 2)\n"
     ]
    },
    {
     "data": {
      "text/plain": [
       "(381109, 25)"
      ]
     },
     "execution_count": 12,
     "metadata": {},
     "output_type": "execute_result"
    }
   ],
   "source": [
    "#### Vehicle age and premium amount mean ####\n",
    "df_channel_premium_s = pd.DataFrame(X_train_eda.groupby(['sales_channel_rare'])['annual_premium_o'].std())\n",
    "df_channel_premium_s = df_channel_premium_s.reset_index()\n",
    "df_channel_premium_s = df_channel_premium_s.rename(columns = {'annual_premium_o' : 'f_channel_premium_std'})\n",
    "print(df_channel_premium_s.shape)\n",
    "\n",
    "# adding new column \"f_policy_channel_p\"\n",
    "X_train_eda = pd.merge(X_train_eda, df_channel_premium_s, how = 'inner', on= ['sales_channel_rare'] )\n",
    "X_train_eda.shape\n"
   ]
  },
  {
   "cell_type": "markdown",
   "metadata": {},
   "source": [
    "#### 9. f_region_premium_std"
   ]
  },
  {
   "cell_type": "code",
   "execution_count": 13,
   "metadata": {},
   "outputs": [
    {
     "name": "stdout",
     "output_type": "stream",
     "text": [
      "(26, 2)\n"
     ]
    },
    {
     "data": {
      "text/plain": [
       "(381109, 26)"
      ]
     },
     "execution_count": 13,
     "metadata": {},
     "output_type": "execute_result"
    }
   ],
   "source": [
    "#### Vehicle age and premium amount mean ####\n",
    "df_region_premium_s = pd.DataFrame(X_train_eda.groupby(['region_cd_rare'])['annual_premium_o'].std())\n",
    "df_region_premium_s = df_region_premium_s.reset_index()\n",
    "df_region_premium_s = df_region_premium_s.rename(columns = {'annual_premium_o' : 'f_region_premium_m'})\n",
    "print(df_region_premium_s.shape)\n",
    "\n",
    "# adding new column \"f_policy_channel_p\"\n",
    "X_train_eda = pd.merge(X_train_eda, df_region_premium_s, how = 'inner', on= ['region_cd_rare'] )\n",
    "X_train_eda.shape\n"
   ]
  },
  {
   "cell_type": "markdown",
   "metadata": {},
   "source": [
    "#### 10. f_licence_premium_mean"
   ]
  },
  {
   "cell_type": "code",
   "execution_count": 14,
   "metadata": {},
   "outputs": [
    {
     "name": "stdout",
     "output_type": "stream",
     "text": [
      "(2, 2)\n"
     ]
    },
    {
     "data": {
      "text/plain": [
       "(381109, 27)"
      ]
     },
     "execution_count": 14,
     "metadata": {},
     "output_type": "execute_result"
    }
   ],
   "source": [
    "#### Vehicle age and premium amount mean ####\n",
    "df_licence_premium_m = pd.DataFrame(X_train_eda.groupby(['driving_licence'])['annual_premium_o'].mean())\n",
    "df_licence_premium_m = df_licence_premium_m.reset_index()\n",
    "df_licence_premium_m = df_licence_premium_m.rename(columns = {'annual_premium_o' : 'f_licence_premium_m'})\n",
    "print(df_licence_premium_m.shape)\n",
    "\n",
    "# adding new column \"f_policy_channel_p\"\n",
    "X_train_eda = pd.merge(X_train_eda, df_licence_premium_m, how = 'inner', on= ['driving_licence'] )\n",
    "X_train_eda.shape"
   ]
  },
  {
   "cell_type": "markdown",
   "metadata": {},
   "source": [
    "#### 11. f_g_age_bins_premium_std"
   ]
  },
  {
   "cell_type": "code",
   "execution_count": 15,
   "metadata": {},
   "outputs": [
    {
     "name": "stdout",
     "output_type": "stream",
     "text": [
      "(8, 3)\n"
     ]
    },
    {
     "data": {
      "text/plain": [
       "(381109, 28)"
      ]
     },
     "execution_count": 15,
     "metadata": {},
     "output_type": "execute_result"
    }
   ],
   "source": [
    "#### Vehicle age and premium amount mean ####\n",
    "df_g_age_bins_premium_s = pd.DataFrame(X_train_eda.groupby(['gender', 'age_bins'])['annual_premium_o'].size())\n",
    "df_g_age_bins_premium_s = df_g_age_bins_premium_s.reset_index()\n",
    "df_g_age_bins_premium_s = df_g_age_bins_premium_s.rename(columns = {'annual_premium_o' : 'f_g_age_bins_premium_std'})\n",
    "print(df_g_age_bins_premium_s.shape)\n",
    "\n",
    "# adding new column \"f_policy_channel_p\"\n",
    "X_train_eda = pd.merge(X_train_eda, df_g_age_bins_premium_s, how = 'inner', on= ['gender', 'age_bins'] )\n",
    "X_train_eda.shape\n"
   ]
  },
  {
   "cell_type": "markdown",
   "metadata": {},
   "source": [
    "#### 12. f_v_dam_age_premium_mean"
   ]
  },
  {
   "cell_type": "code",
   "execution_count": 16,
   "metadata": {},
   "outputs": [
    {
     "name": "stdout",
     "output_type": "stream",
     "text": [
      "(6, 3)\n"
     ]
    },
    {
     "data": {
      "text/plain": [
       "(381109, 29)"
      ]
     },
     "execution_count": 16,
     "metadata": {},
     "output_type": "execute_result"
    }
   ],
   "source": [
    "#### Vehicle age and premium amount mean ####\n",
    "df_v_dam_age_premium_m = pd.DataFrame(X_train_eda.groupby(['vehicle_damage', 'vehicle_age'])['annual_premium_o'].mean())\n",
    "df_v_dam_age_premium_m  = df_v_dam_age_premium_m.reset_index()\n",
    "df_v_dam_age_premium_m  = df_v_dam_age_premium_m.rename(columns = {'annual_premium_o' : 'f_v_dam_age_premium_m'})\n",
    "print(df_v_dam_age_premium_m .shape)\n",
    "\n",
    "# adding new column \"f_policy_channel_p\"\n",
    "X_train_eda = pd.merge(X_train_eda, df_v_dam_age_premium_m , how = 'inner', on= ['vehicle_damage', 'vehicle_age'] )\n",
    "X_train_eda.shape"
   ]
  },
  {
   "cell_type": "markdown",
   "metadata": {},
   "source": [
    "#### 13. f_insured_dam_premium_std"
   ]
  },
  {
   "cell_type": "code",
   "execution_count": 17,
   "metadata": {},
   "outputs": [
    {
     "name": "stdout",
     "output_type": "stream",
     "text": [
      "(4, 3)\n"
     ]
    },
    {
     "data": {
      "text/plain": [
       "(381109, 30)"
      ]
     },
     "execution_count": 17,
     "metadata": {},
     "output_type": "execute_result"
    }
   ],
   "source": [
    "#### Vehicle age and premium amount mean ####\n",
    "df_insured_dam_premium_s = pd.DataFrame(X_train_eda.groupby(['previously_insured', 'vehicle_damage'])['annual_premium_o'].std())\n",
    "df_insured_dam_premium_s  = df_insured_dam_premium_s.reset_index()\n",
    "df_insured_dam_premium_s  = df_insured_dam_premium_s.rename(columns = {'annual_premium_o' : 'f_insured_dam_premium_s'})\n",
    "print(df_insured_dam_premium_s .shape)\n",
    "\n",
    "# adding new column \"f_policy_channel_p\"\n",
    "X_train_eda = pd.merge(X_train_eda, df_insured_dam_premium_s , how = 'inner', on= ['previously_insured', 'vehicle_damage'] )\n",
    "X_train_eda.shape\n"
   ]
  },
  {
   "cell_type": "markdown",
   "metadata": {},
   "source": [
    "#### 14. f_age_dist_cnt"
   ]
  },
  {
   "cell_type": "code",
   "execution_count": 18,
   "metadata": {},
   "outputs": [
    {
     "name": "stdout",
     "output_type": "stream",
     "text": [
      "(66, 2)\n"
     ]
    },
    {
     "data": {
      "text/plain": [
       "(381109, 31)"
      ]
     },
     "execution_count": 18,
     "metadata": {},
     "output_type": "execute_result"
    }
   ],
   "source": [
    "#### Distribution of Age ####\n",
    "df_age_dist_cnt = pd.DataFrame(X_train_eda.groupby(['age']).size())\n",
    "df_age_dist_cnt = df_age_dist_cnt.reset_index()\n",
    "df_age_dist_cnt = df_age_dist_cnt.rename(columns = {0 : 'f_age_dist_cnt'})\n",
    "print(df_age_dist_cnt.shape)\n",
    "\n",
    "# adding new column \"f_vintage_cnt\"\n",
    "X_train_eda = pd.merge(X_train_eda, df_age_dist_cnt, how = 'inner', on= ['age'] )\n",
    "X_train_eda.shape"
   ]
  },
  {
   "cell_type": "markdown",
   "metadata": {},
   "source": [
    "#### 15. f_premium_more_10k"
   ]
  },
  {
   "cell_type": "code",
   "execution_count": 19,
   "metadata": {},
   "outputs": [
    {
     "data": {
      "text/plain": [
       "(381109, 32)"
      ]
     },
     "execution_count": 19,
     "metadata": {},
     "output_type": "execute_result"
    }
   ],
   "source": [
    "#### 1. gender ####\n",
    "X_train_eda['f_premium_more_10k'] = np.where(X_train_eda['annual_premium_o'] > 10000, 1, 0)\n",
    "X_train_eda.shape"
   ]
  },
  {
   "cell_type": "markdown",
   "metadata": {},
   "source": [
    "#### 16. f_licence_bins_mean"
   ]
  },
  {
   "cell_type": "code",
   "execution_count": 20,
   "metadata": {},
   "outputs": [
    {
     "name": "stdout",
     "output_type": "stream",
     "text": [
      "(8, 3)\n"
     ]
    },
    {
     "data": {
      "text/plain": [
       "(381109, 33)"
      ]
     },
     "execution_count": 20,
     "metadata": {},
     "output_type": "execute_result"
    }
   ],
   "source": [
    "#### Distribution of Age ####\n",
    "df_dl_bins_premium_m = pd.DataFrame(X_train_eda.groupby(['driving_licence', 'age_bins'])['annual_premium_o'].mean())\n",
    "df_dl_bins_premium_m = df_dl_bins_premium_m.reset_index()\n",
    "df_dl_bins_premium_m = df_dl_bins_premium_m.rename(columns = {'annual_premium_o' : 'f_licence_bins_mean'})\n",
    "print(df_dl_bins_premium_m.shape)\n",
    "\n",
    "# adding new column \"f_vintage_cnt\"\n",
    "X_train_eda = pd.merge(X_train_eda, df_dl_bins_premium_m, how = 'inner', on= ['driving_licence', 'age_bins'] )\n",
    "X_train_eda.shape"
   ]
  },
  {
   "cell_type": "markdown",
   "metadata": {},
   "source": [
    "#### 17. f_insure_vehicle_age_dam_mean"
   ]
  },
  {
   "cell_type": "code",
   "execution_count": 21,
   "metadata": {},
   "outputs": [
    {
     "name": "stdout",
     "output_type": "stream",
     "text": [
      "(12, 4)\n"
     ]
    },
    {
     "data": {
      "text/plain": [
       "(381109, 34)"
      ]
     },
     "execution_count": 21,
     "metadata": {},
     "output_type": "execute_result"
    }
   ],
   "source": [
    "#### Distribution of Age ####\n",
    "df_insure_vehicle_age_dam_m = pd.DataFrame(X_train_eda.groupby(['previously_insured', 'vehicle_age', 'vehicle_damage'])['annual_premium_o'].mean())\n",
    "df_insure_vehicle_age_dam_m = df_insure_vehicle_age_dam_m.reset_index()\n",
    "df_insure_vehicle_age_dam_m = df_insure_vehicle_age_dam_m.rename(columns = {'annual_premium_o' : 'f_insure_v_age_dam_premium_m'})\n",
    "print(df_insure_vehicle_age_dam_m.shape)\n",
    "\n",
    "# adding new column \"f_vintage_cnt\"\n",
    "X_train_eda = pd.merge(X_train_eda, df_insure_vehicle_age_dam_m, how = 'inner', on= ['previously_insured', 'vehicle_age', 'vehicle_damage'] )\n",
    "X_train_eda.shape\n",
    "# mean with bimodel"
   ]
  },
  {
   "cell_type": "markdown",
   "metadata": {},
   "source": [
    "#### 18. f_region_channel_premium_std"
   ]
  },
  {
   "cell_type": "code",
   "execution_count": 22,
   "metadata": {},
   "outputs": [
    {
     "name": "stdout",
     "output_type": "stream",
     "text": [
      "(260, 3)\n"
     ]
    },
    {
     "data": {
      "text/plain": [
       "(381109, 35)"
      ]
     },
     "execution_count": 22,
     "metadata": {},
     "output_type": "execute_result"
    }
   ],
   "source": [
    "#### Distribution of Age ####\n",
    "df_reg_cha_premium_s = pd.DataFrame(X_train_eda.groupby(['region_cd_rare', 'sales_channel_rare'])['annual_premium_o'].std())\n",
    "df_reg_cha_premium_s = df_reg_cha_premium_s.reset_index()\n",
    "df_reg_cha_premium_s = df_reg_cha_premium_s.rename(columns = {'annual_premium_o' : 'f_reg_cha_premium_std'})\n",
    "print(df_reg_cha_premium_s.shape)\n",
    "\n",
    "# adding new column \"f_vintage_cnt\"\n",
    "X_train_eda = pd.merge(X_train_eda, df_reg_cha_premium_s, how = 'inner', on= ['region_cd_rare', 'sales_channel_rare'] )\n",
    "X_train_eda.shape\n"
   ]
  },
  {
   "cell_type": "markdown",
   "metadata": {},
   "source": [
    "#### 19. f_insure_region_premium_std"
   ]
  },
  {
   "cell_type": "code",
   "execution_count": 23,
   "metadata": {},
   "outputs": [
    {
     "name": "stdout",
     "output_type": "stream",
     "text": [
      "(52, 3)\n"
     ]
    },
    {
     "data": {
      "text/plain": [
       "(381109, 36)"
      ]
     },
     "execution_count": 23,
     "metadata": {},
     "output_type": "execute_result"
    }
   ],
   "source": [
    "#### Distribution of Age ####\n",
    "df_insure_reg_premium_s = pd.DataFrame(X_train_eda.groupby(['previously_insured', 'region_cd_rare'])['annual_premium_o'].std())\n",
    "df_insure_reg_premium_s = df_insure_reg_premium_s.reset_index()\n",
    "df_insure_reg_premium_s = df_insure_reg_premium_s.rename(columns = {'annual_premium_o' : 'f_insure_region_premium_m'})\n",
    "print(df_insure_reg_premium_s.shape)\n",
    "\n",
    "# adding new column \"f_vintage_cnt\"\n",
    "X_train_eda = pd.merge(X_train_eda, df_insure_reg_premium_s, how = 'inner', on= ['previously_insured', 'region_cd_rare'] )\n",
    "X_train_eda.shape"
   ]
  },
  {
   "cell_type": "markdown",
   "metadata": {},
   "source": [
    "#### 20. f_insure_channel_premium_std"
   ]
  },
  {
   "cell_type": "code",
   "execution_count": 24,
   "metadata": {},
   "outputs": [
    {
     "name": "stdout",
     "output_type": "stream",
     "text": [
      "(20, 3)\n"
     ]
    },
    {
     "data": {
      "text/plain": [
       "(381109, 37)"
      ]
     },
     "execution_count": 24,
     "metadata": {},
     "output_type": "execute_result"
    }
   ],
   "source": [
    "#### Distribution of Age ####\n",
    "df_insure_cha_premium_s = pd.DataFrame(X_train_eda.groupby(['previously_insured', 'sales_channel_rare'])['annual_premium_o'].std())\n",
    "df_insure_cha_premium_s = df_insure_cha_premium_s.reset_index()\n",
    "df_insure_cha_premium_s = df_insure_cha_premium_s.rename(columns = {'annual_premium_o' : 'f_insure_cha_premium_s'})\n",
    "print(df_insure_cha_premium_s.shape)\n",
    "\n",
    "# adding new column \"f_vintage_cnt\"\n",
    "X_train_eda = pd.merge(X_train_eda, df_insure_cha_premium_s, how = 'inner', on= ['previously_insured', 'sales_channel_rare'] )\n",
    "X_train_eda.shape"
   ]
  },
  {
   "cell_type": "markdown",
   "metadata": {},
   "source": [
    "#### 21. f_region_cd_p"
   ]
  },
  {
   "cell_type": "code",
   "execution_count": 25,
   "metadata": {},
   "outputs": [
    {
     "name": "stdout",
     "output_type": "stream",
     "text": [
      "(26, 2)\n"
     ]
    },
    {
     "data": {
      "text/plain": [
       "(381109, 38)"
      ]
     },
     "execution_count": 25,
     "metadata": {},
     "output_type": "execute_result"
    }
   ],
   "source": [
    "#### probability of region code rare ####\n",
    "df_region_cd_p = pd.DataFrame(X_train_eda.groupby(['region_cd_rare']).size()/X_train_eda.shape[0])\n",
    "df_region_cd_p = df_region_cd_p.reset_index()\n",
    "df_region_cd_p = df_region_cd_p.rename(columns = {0 : 'f_region_cd_rare_p'})\n",
    "print(df_region_cd_p.shape)\n",
    "\n",
    "# adding new column \"f_region_cd_rare_p\"\n",
    "X_train_eda = pd.merge(X_train_eda, df_region_cd_p, how = 'inner', on= ['region_cd_rare'] )\n",
    "X_train_eda.shape"
   ]
  },
  {
   "cell_type": "markdown",
   "metadata": {},
   "source": [
    "#### 22. f_policy_channel_cnt"
   ]
  },
  {
   "cell_type": "code",
   "execution_count": 26,
   "metadata": {},
   "outputs": [
    {
     "name": "stdout",
     "output_type": "stream",
     "text": [
      "(155, 2)\n"
     ]
    },
    {
     "data": {
      "text/plain": [
       "(381109, 39)"
      ]
     },
     "execution_count": 26,
     "metadata": {},
     "output_type": "execute_result"
    }
   ],
   "source": [
    "#### probability of region code rare ####\n",
    "df_policy_cnt = pd.DataFrame(X_train_eda.groupby(['policy_sales_channel']).size())\n",
    "df_policy_cnt = df_policy_cnt.reset_index()\n",
    "df_policy_cnt = df_policy_cnt.rename(columns = {0 : 'f_channel_cnt'})\n",
    "print(df_policy_cnt.shape)\n",
    "\n",
    "# adding new column \"f_region_cd_cnt\"\n",
    "X_train_eda = pd.merge(X_train_eda, df_policy_cnt, how = 'left', on= ['policy_sales_channel'])\n",
    "X_train_eda.shape"
   ]
  },
  {
   "cell_type": "markdown",
   "metadata": {},
   "source": [
    "#### pickling the variables ####"
   ]
  },
  {
   "cell_type": "code",
   "execution_count": 27,
   "metadata": {},
   "outputs": [
    {
     "name": "stdout",
     "output_type": "stream",
     "text": [
      "(381109, 39)\n"
     ]
    },
    {
     "data": {
      "text/plain": [
       "['X_train_fe.pkl']"
      ]
     },
     "execution_count": 27,
     "metadata": {},
     "output_type": "execute_result"
    }
   ],
   "source": [
    "#### pickling the train dataset ####\n",
    "print(X_train_eda.shape)\n",
    "joblib.dump(X_train_eda, \"X_train_fe.pkl\")"
   ]
  },
  {
   "cell_type": "code",
   "execution_count": 28,
   "metadata": {},
   "outputs": [
    {
     "data": {
      "text/plain": [
       "['fe_1.pkl']"
      ]
     },
     "execution_count": 28,
     "metadata": {},
     "output_type": "execute_result"
    }
   ],
   "source": [
    "#### Pickling Feature Engineering variables ####\n",
    "joblib.dump((df_region_cd_cnt, df_vehicle_age_p, df_policy_channel_p, df_vintage_cnt_p, df_age_bins_p, df_age_bins_premium_me, df_vehicle_age_premium_s, df_channel_premium_s, df_region_premium_s, df_licence_premium_m), \"fe_1.pkl\")"
   ]
  },
  {
   "cell_type": "code",
   "execution_count": 29,
   "metadata": {},
   "outputs": [
    {
     "data": {
      "text/plain": [
       "['fe_2.pkl']"
      ]
     },
     "execution_count": 29,
     "metadata": {},
     "output_type": "execute_result"
    }
   ],
   "source": [
    "#### importing Feature Engineering variables 2 ####\n",
    "joblib.dump((df_g_age_bins_premium_s, df_v_dam_age_premium_m, df_insured_dam_premium_s, df_age_dist_cnt, df_dl_bins_premium_m, df_insure_vehicle_age_dam_m, df_reg_cha_premium_s, df_insure_reg_premium_s, df_insure_cha_premium_s, df_region_cd_p,  df_policy_cnt ), \"fe_2.pkl\")"
   ]
  },
  {
   "cell_type": "code",
   "execution_count": null,
   "metadata": {},
   "outputs": [],
   "source": []
  }
 ],
 "metadata": {
  "kernelspec": {
   "display_name": "Python 3",
   "language": "python",
   "name": "python3"
  },
  "language_info": {
   "codemirror_mode": {
    "name": "ipython",
    "version": 3
   },
   "file_extension": ".py",
   "mimetype": "text/x-python",
   "name": "python",
   "nbconvert_exporter": "python",
   "pygments_lexer": "ipython3",
   "version": "3.7.3"
  }
 },
 "nbformat": 4,
 "nbformat_minor": 2
}
